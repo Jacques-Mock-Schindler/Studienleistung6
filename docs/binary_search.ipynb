{
 "cells": [
  {
   "cell_type": "markdown",
   "metadata": {},
   "source": [
    "# Binary Search"
   ]
  },
  {
   "cell_type": "markdown",
   "metadata": {},
   "source": [
    "In diesem Notzibuch sollen zwei Suchalgorithmen einander gegenüber\n",
    "gestellt werden."
   ]
  },
  {
   "cell_type": "markdown",
   "metadata": {},
   "source": [
    "## Linear Search\n",
    "\n",
    "Gegeben sei eine Python Liste mit 16 Werten in beliebiger Reihenfolge.\n",
    "Gesucht ist ein Verfahren, mit dem überprüft werden kann, ob ein\n",
    "beliebiger Wert in dieser Python Liste vorkommt und wenn ja an welcher\n",
    "Stelle in der Python Liste."
   ]
  },
  {
   "cell_type": "markdown",
   "metadata": {},
   "source": [
    "### Aufgabe"
   ]
  },
  {
   "cell_type": "markdown",
   "metadata": {},
   "source": [
    "Die Python Liste `sequenz` beinhaltet 16 zufällig gewählte natürliche\n",
    "Zahlen von 1 bis 100.  \n",
    "Wählen Sie 10 zufällige natürliche Zahlen von 1 bis 100. Suchen Sie mit\n",
    "Hilfe einer Schlaufe in `sequenz` nach diesen zufällig gewählten Zahlen.  \n",
    "Wie viele Vergleiche müssen Sie im Durchschnitt über diese 10\n",
    "Suchdruchläufe vornehmen?"
   ]
  },
  {
   "cell_type": "code",
   "execution_count": 6,
   "metadata": {},
   "outputs": [],
   "source": [
    "import random"
   ]
  },
  {
   "cell_type": "code",
   "execution_count": 5,
   "metadata": {},
   "outputs": [],
   "source": [
    "sequenz = [17, 35, 42, 24, 21, 36, 75, 34, 12, 35, 23, 69, 34, 28, 86, 98]"
   ]
  },
  {
   "cell_type": "code",
   "execution_count": 18,
   "metadata": {},
   "outputs": [],
   "source": [
    "search_values = [random.randint(1, 100) for i in range(1000)]"
   ]
  },
  {
   "cell_type": "code",
   "execution_count": 16,
   "metadata": {},
   "outputs": [
    {
     "name": "stdout",
     "output_type": "stream",
     "text": [
      "2\n"
     ]
    }
   ],
   "source": [
    "x = 35\n",
    "i = 0\n",
    "for v in sequenz:\n",
    "    i += 1\n",
    "    if x == v:\n",
    "        break\n",
    "print(i)"
   ]
  },
  {
   "cell_type": "code",
   "execution_count": 20,
   "metadata": {},
   "outputs": [
    {
     "name": "stdout",
     "output_type": "stream",
     "text": [
      "15.033\n"
     ]
    }
   ],
   "source": [
    "searches = []\n",
    "for x in search_values:\n",
    "    i = 0\n",
    "    for v in sequenz:\n",
    "        i += 1\n",
    "        if x == v:\n",
    "            break\n",
    "    searches.append(i)\n",
    "print(sum(searches)/len(searches))"
   ]
  }
 ],
 "metadata": {
  "kernelspec": {
   "display_name": ".venv",
   "language": "python",
   "name": "python3"
  },
  "language_info": {
   "codemirror_mode": {
    "name": "ipython",
    "version": 3
   },
   "file_extension": ".py",
   "mimetype": "text/x-python",
   "name": "python",
   "nbconvert_exporter": "python",
   "pygments_lexer": "ipython3",
   "version": "3.12.2"
  }
 },
 "nbformat": 4,
 "nbformat_minor": 2
}
