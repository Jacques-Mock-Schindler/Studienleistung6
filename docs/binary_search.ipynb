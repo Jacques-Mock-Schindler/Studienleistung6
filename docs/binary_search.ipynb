{
 "cells": [
  {
   "cell_type": "markdown",
   "metadata": {},
   "source": [
    "# Binary Search"
   ]
  },
  {
   "cell_type": "markdown",
   "metadata": {},
   "source": [
    "In diesem Notzibuch sollen zwei Suchalgorithmen einander gegenüber\n",
    "gestellt werden."
   ]
  },
  {
   "cell_type": "markdown",
   "metadata": {},
   "source": [
    "## Lineare Suche\n",
    "\n",
    "Gegeben sei eine Python Liste mit 16 Werten in beliebiger Reihenfolge.\n",
    "Gesucht ist ein Verfahren, mit dem überprüft werden kann, ob ein\n",
    "beliebiger Wert in dieser Python Liste vorkommt und wenn ja an welcher\n",
    "Stelle in der Python Liste.\n",
    "\n",
    "Die einfachste Lösung für dieses Problem ist es, ein Element nach dem\n",
    "anderen auf seine Übereintstimmung mit dem gesuchten Wert zu überprüfen.\n",
    "Wird das Element gefunden, wird der Index zurückgegeben, wird das\n",
    "Element nicht gefunden -1."
   ]
  },
  {
   "cell_type": "code",
   "execution_count": 35,
   "metadata": {},
   "outputs": [],
   "source": [
    "import random"
   ]
  },
  {
   "cell_type": "code",
   "execution_count": 75,
   "metadata": {},
   "outputs": [],
   "source": [
    "sequenz = [17, 35, 42, 24, 21, 36, 75, 34, 12, 35, 23, 69, 34, 28, 86, 98]"
   ]
  },
  {
   "cell_type": "markdown",
   "metadata": {},
   "source": [
    "### Implementierung der linearen Suche"
   ]
  },
  {
   "cell_type": "markdown",
   "metadata": {},
   "source": [
    "#### Aufgabe"
   ]
  },
  {
   "cell_type": "markdown",
   "metadata": {},
   "source": [
    "Implementieren Sie in der folgenden Zelle eine lineare Suche in Python.\n",
    "Testen Sie Ihre Implementation mit den Werten 1, 17, 98 und 100 an der\n",
    "Python Liste `sequenz`."
   ]
  },
  {
   "cell_type": "code",
   "execution_count": 30,
   "metadata": {},
   "outputs": [],
   "source": [
    "def linear_search(seq, x):\n",
    "    # TODO: Implementation ohne enumerate\n",
    "    i = 1\n",
    "    for value in seq:\n",
    "        if value == x:\n",
    "            break\n",
    "        else:\n",
    "            i += 1\n",
    "    if i > len(seq):\n",
    "        return -1\n",
    "    else:\n",
    "        return i - 1"
   ]
  },
  {
   "cell_type": "code",
   "execution_count": 34,
   "metadata": {},
   "outputs": [
    {
     "name": "stdout",
     "output_type": "stream",
     "text": [
      "-1\n",
      "0\n",
      "15\n",
      "-1\n"
     ]
    }
   ],
   "source": [
    "print(linear_search(sequenz, 1))\n",
    "print(linear_search(sequenz, 17))\n",
    "print(linear_search(sequenz, 98))\n",
    "print(linear_search(sequenz, 100))"
   ]
  },
  {
   "cell_type": "markdown",
   "metadata": {},
   "source": [
    "### Effizienz der linearen Suche"
   ]
  },
  {
   "cell_type": "markdown",
   "metadata": {},
   "source": [
    "Mit den folgenden Aufgaben soll aufgezeigt werden, wie effizient die\n",
    "lineare Suche ist."
   ]
  },
  {
   "cell_type": "markdown",
   "metadata": {},
   "source": [
    "#### Aufgabe"
   ]
  },
  {
   "cell_type": "markdown",
   "metadata": {},
   "source": [
    "Die Python Liste `sequenz` beinhaltet 16 zufällig gewählte natürliche\n",
    "Zahlen von 1 bis 100.  \n",
    "Wählen Sie 100 mal zufällig eine Zahl aus `sequenz` aus und \n",
    "suchen Sie mit Hilfe einer Schlaufe in `sequenz` nach diesen zufällig\n",
    "gewählten Zahlen.   \n",
    "Wie viele Vergleiche müssen Sie im Durchschnitt über diese 100\n",
    "Suchdruchläufe vornehmen?"
   ]
  },
  {
   "cell_type": "code",
   "execution_count": 59,
   "metadata": {},
   "outputs": [],
   "source": [
    "search_values = [random.choice(sequenz) for i in range(100)]"
   ]
  },
  {
   "cell_type": "code",
   "execution_count": 60,
   "metadata": {},
   "outputs": [
    {
     "name": "stdout",
     "output_type": "stream",
     "text": [
      "8.04\n"
     ]
    }
   ],
   "source": [
    "searches = []\n",
    "for x in search_values:\n",
    "    i = 0\n",
    "    for v in sequenz:\n",
    "        i += 1\n",
    "        if x == v:\n",
    "            break\n",
    "    searches.append(i)\n",
    "print(sum(searches)/len(searches))"
   ]
  },
  {
   "cell_type": "markdown",
   "metadata": {},
   "source": [
    "#### Aufgabe"
   ]
  },
  {
   "cell_type": "markdown",
   "metadata": {},
   "source": [
    "Wählen Sie zufällig 100 natürliche Zahlen von 1 bis 100 und \n",
    "suchen Sie mit Hilfe einer Schlaufe in `sequenz` nach diesen zufällig\n",
    "gewählten Zahlen.   \n",
    "Wie viele Vergleiche müssen Sie jetzt im Durchschnitt über diese 100\n",
    "Suchdruchläufe vornehmen?"
   ]
  },
  {
   "cell_type": "code",
   "execution_count": 70,
   "metadata": {},
   "outputs": [],
   "source": [
    "search_values_100 = [random.randint(1,100) for i in range(100)]"
   ]
  },
  {
   "cell_type": "code",
   "execution_count": 71,
   "metadata": {},
   "outputs": [
    {
     "name": "stdout",
     "output_type": "stream",
     "text": [
      "14.57\n"
     ]
    }
   ],
   "source": [
    "searches_100 = []\n",
    "for x in search_values_100:\n",
    "    i = 0\n",
    "    for v in sequenz:\n",
    "        i += 1\n",
    "        if x == v:\n",
    "            break\n",
    "    searches_100.append(i)\n",
    "print(sum(searches_100)/len(searches_100))"
   ]
  },
  {
   "cell_type": "markdown",
   "metadata": {},
   "source": [
    "#### Besprechung der Resultate"
   ]
  },
  {
   "cell_type": "markdown",
   "metadata": {},
   "source": [
    "Die erste Aufgabe scheint ein Resultat in der nähe von 8 zu liefern, die\n",
    "zweite eines von etwas mehr als 14. Woran liegt das?\n",
    "\n",
    "Wenn wir eine Zahl zufällig aus der Python Liste `sequenz` auswählen,\n",
    "hat jede Position die Wahrscheinlichkeit von $\\frac{1}{16}$. Es sind also\n",
    "$\\frac{8}{16}$ mit weniger als 8 Vergleichen und $\\frac{8}{16}$ mit mehr\n",
    "als 8 vergleichen. Damit kommen wir im Mittel auf 8 Vergleiche.  \n",
    "\n",
    "Wenn jedoch eine eine Zahl von 1 bis 100 gewählt wird, ist die Chance,\n",
    "dass die Zahl in der Python Liste `sequenz` ist nur $\\frac{16}{100}$. $\\frac{84}{100}$\n",
    "liegen ausserhalb der Pyhton Liste `sequenz`. Damit werden in\n",
    "$\\frac{84}{100}$ aller Fälle 16 Vergleiche erforderlich.\n",
    "\n",
    "Daraus ergibt sich folgende Rechnung für den Gesamtdurchschnitt:\n",
    "\n",
    "$$\n",
    "8 \\times 0.16 + 16 \\times 0.84 = 14.72\n",
    "$$\n",
    "\n",
    "Im Mittel braucht es also etwas mehr als 14 Vergleiche.\n",
    "Im schlimmsten Fall - wenn der gesuchte Wert nicht in der Python Liste\n",
    "`sequenz` zu finden ist - braucht die lineare Suche 16 Vergleiche.\n",
    "\n",
    "Vor diesem Hintergrund lohnt sich die Suche nach einem Verfahren,\n",
    "welches auch im schlimmsten Fall weniger Vergleiche erfordert."
   ]
  },
  {
   "cell_type": "markdown",
   "metadata": {},
   "source": [
    "## Binäre Suche"
   ]
  },
  {
   "cell_type": "markdown",
   "metadata": {},
   "source": [
    "Eine erste Verbesserung der Effizienz der Suche ergibt sich, wenn die zu\n",
    "durchsuchende Sequenz in aufsteigender Reihenfolge sortiert ist."
   ]
  },
  {
   "cell_type": "code",
   "execution_count": 76,
   "metadata": {},
   "outputs": [
    {
     "data": {
      "text/plain": [
       "[12, 17, 21, 23, 24, 28, 34, 34, 35, 35, 36, 42, 69, 75, 86, 98]"
      ]
     },
     "execution_count": 76,
     "metadata": {},
     "output_type": "execute_result"
    }
   ],
   "source": [
    "sequenz_sortiert = sequenz.copy()\n",
    "sequenz_sortiert.sort()"
   ]
  },
  {
   "cell_type": "markdown",
   "metadata": {},
   "source": [
    "### Aufgabe"
   ]
  },
  {
   "cell_type": "markdown",
   "metadata": {},
   "source": [
    "Wie kann mit möglichst wenigen Versuchen überprüft werden, ob ein Wert\n",
    "in der Python Liste `sequenz_sortiert` vorkommen kann?"
   ]
  },
  {
   "cell_type": "code",
   "execution_count": 80,
   "metadata": {},
   "outputs": [],
   "source": [
    "def in_range(seq, x):\n",
    "    if x < seq[0] or x > seq[-1]:\n",
    "        return -1\n",
    "    else:\n",
    "        return 1"
   ]
  },
  {
   "cell_type": "code",
   "execution_count": 82,
   "metadata": {},
   "outputs": [
    {
     "name": "stdout",
     "output_type": "stream",
     "text": [
      "-1\n",
      "1\n",
      "1\n",
      "-1\n"
     ]
    }
   ],
   "source": [
    "print(in_range(sequenz_sortiert, 10))\n",
    "print(in_range(sequenz_sortiert, 12))\n",
    "print(in_range(sequenz_sortiert, 98))\n",
    "print(in_range(sequenz_sortiert, 100))"
   ]
  },
  {
   "cell_type": "code",
   "execution_count": null,
   "metadata": {},
   "outputs": [],
   "source": []
  }
 ],
 "metadata": {
  "kernelspec": {
   "display_name": ".venv",
   "language": "python",
   "name": "python3"
  },
  "language_info": {
   "codemirror_mode": {
    "name": "ipython",
    "version": 3
   },
   "file_extension": ".py",
   "mimetype": "text/x-python",
   "name": "python",
   "nbconvert_exporter": "python",
   "pygments_lexer": "ipython3",
   "version": "3.12.2"
  }
 },
 "nbformat": 4,
 "nbformat_minor": 2
}
