{
 "cells": [
  {
   "cell_type": "markdown",
   "metadata": {},
   "source": [
    "# Binary Search"
   ]
  },
  {
   "cell_type": "markdown",
   "metadata": {},
   "source": [
    "In diesem Notzibuch sollen zwei Suchalgorithmen einander gegenüber\n",
    "gestellt werden."
   ]
  },
  {
   "cell_type": "markdown",
   "metadata": {},
   "source": [
    "## Lineare Suche\n",
    "\n",
    "Gegeben sei eine Python Liste mit 16 Werten in beliebiger Reihenfolge.\n",
    "Gesucht ist ein Verfahren, mit dem überprüft werden kann, ob ein\n",
    "beliebiger Wert in dieser Python Liste vorkommt und wenn ja an welcher\n",
    "Stelle in der Python Liste.\n",
    "\n",
    "Die einfachste Lösung für dieses Problem ist es, ein Element nach dem\n",
    "anderen auf seine Übereintstimmung mit dem gesuchten Wert zu überprüfen.\n",
    "Wird das Element gefunden, wird der Index zurückgegeben, wird das\n",
    "Element nicht gefunden -1."
   ]
  },
  {
   "cell_type": "code",
   "execution_count": 26,
   "metadata": {},
   "outputs": [],
   "source": [
    "sequenz = [17, 35, 42, 24, 21, 36, 75, 34, 12, 35, 23, 69, 34, 28, 86, 98]"
   ]
  },
  {
   "cell_type": "markdown",
   "metadata": {},
   "source": [
    "### Implementierung der linearen Suche"
   ]
  },
  {
   "cell_type": "markdown",
   "metadata": {},
   "source": [
    "#### Aufgabe"
   ]
  },
  {
   "cell_type": "markdown",
   "metadata": {},
   "source": [
    "Implementieren Sie in der folgenden Zelle eine lineare Suche in Python.\n",
    "Testen Sie Ihre Implementation mit den Werten 1, 17, 98 und 100 an der\n",
    "Python Liste `sequenz`."
   ]
  },
  {
   "cell_type": "code",
   "execution_count": 30,
   "metadata": {},
   "outputs": [],
   "source": [
    "def linear_search(seq, x):\n",
    "    # TODO: Implementation ohne enumerate\n",
    "    i = 1\n",
    "    for value in seq:\n",
    "        if value == x:\n",
    "            break\n",
    "        else:\n",
    "            i += 1\n",
    "    if i > len(seq):\n",
    "        return -1\n",
    "    else:\n",
    "        return i - 1"
   ]
  },
  {
   "cell_type": "code",
   "execution_count": 34,
   "metadata": {},
   "outputs": [
    {
     "name": "stdout",
     "output_type": "stream",
     "text": [
      "-1\n",
      "0\n",
      "15\n",
      "-1\n"
     ]
    }
   ],
   "source": [
    "print(linear_search(sequenz, 1))\n",
    "print(linear_search(sequenz, 17))\n",
    "print(linear_search(sequenz, 98))\n",
    "print(linear_search(sequenz, 100))"
   ]
  },
  {
   "cell_type": "markdown",
   "metadata": {},
   "source": [
    "### Effizienz der linearen Suche"
   ]
  },
  {
   "cell_type": "markdown",
   "metadata": {},
   "source": [
    "Mit den folgenden Aufgaben soll aufgezeigt werden, wie effizient die\n",
    "lineare Suche ist."
   ]
  },
  {
   "cell_type": "markdown",
   "metadata": {},
   "source": [
    "#### Aufgabe"
   ]
  },
  {
   "cell_type": "markdown",
   "metadata": {},
   "source": [
    "Die Python Liste `sequenz` beinhaltet 16 zufällig gewählte natürliche\n",
    "Zahlen von 1 bis 100.  \n",
    "Wählen Sie 10 zufällige natürliche Zahlen von 1 bis 100. Suchen Sie mit\n",
    "Hilfe einer Schlaufe in `sequenz` nach diesen zufällig gewählten Zahlen.  \n",
    "Wie viele Vergleiche müssen Sie im Durchschnitt über diese 10\n",
    "Suchdruchläufe vornehmen?"
   ]
  },
  {
   "cell_type": "code",
   "execution_count": 6,
   "metadata": {},
   "outputs": [],
   "source": [
    "import random"
   ]
  },
  {
   "cell_type": "code",
   "execution_count": 5,
   "metadata": {},
   "outputs": [],
   "source": [
    "sequenz = [17, 35, 42, 24, 21, 36, 75, 34, 12, 35, 23, 69, 34, 28, 86, 98]"
   ]
  },
  {
   "cell_type": "code",
   "execution_count": 23,
   "metadata": {},
   "outputs": [],
   "source": [
    "search_values = [random.randint(1, 100) for i in range(100000)]"
   ]
  },
  {
   "cell_type": "code",
   "execution_count": 16,
   "metadata": {},
   "outputs": [
    {
     "name": "stdout",
     "output_type": "stream",
     "text": [
      "2\n"
     ]
    }
   ],
   "source": [
    "x = 35\n",
    "i = 0\n",
    "for v in sequenz:\n",
    "    i += 1\n",
    "    if x == v:\n",
    "        break\n",
    "print(i)"
   ]
  },
  {
   "cell_type": "code",
   "execution_count": 24,
   "metadata": {},
   "outputs": [
    {
     "name": "stdout",
     "output_type": "stream",
     "text": [
      "14.88223\n"
     ]
    }
   ],
   "source": [
    "searches = []\n",
    "for x in search_values:\n",
    "    i = 0\n",
    "    for v in sequenz:\n",
    "        i += 1\n",
    "        if x == v:\n",
    "            break\n",
    "    searches.append(i)\n",
    "print(sum(searches)/len(searches))"
   ]
  }
 ],
 "metadata": {
  "kernelspec": {
   "display_name": ".venv",
   "language": "python",
   "name": "python3"
  },
  "language_info": {
   "codemirror_mode": {
    "name": "ipython",
    "version": 3
   },
   "file_extension": ".py",
   "mimetype": "text/x-python",
   "name": "python",
   "nbconvert_exporter": "python",
   "pygments_lexer": "ipython3",
   "version": "3.12.2"
  }
 },
 "nbformat": 4,
 "nbformat_minor": 2
}
