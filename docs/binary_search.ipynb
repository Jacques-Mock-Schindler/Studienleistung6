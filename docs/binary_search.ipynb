{
 "cells": [
  {
   "cell_type": "markdown",
   "metadata": {},
   "source": [
    "# Binary Search"
   ]
  },
  {
   "cell_type": "markdown",
   "metadata": {},
   "source": [
    "In diesem Notzibuch sollen zwei Suchalgorithmen einander gegenüber\n",
    "gestellt werden."
   ]
  },
  {
   "cell_type": "markdown",
   "metadata": {},
   "source": [
    "## Linear Search\n",
    "\n",
    "Gegeben sei eine Python Liste mit 16 Werten in beliebiger Reihenfolge.\n",
    "Gesucht ist ein Verfahren, mit dem überprüft werden kann, ob ein\n",
    "beliebiger Wert in dieser Python Liste vorkommt und wenn ja an welcher\n",
    "Stelle in der Python Liste."
   ]
  },
  {
   "cell_type": "code",
   "execution_count": null,
   "metadata": {},
   "outputs": [],
   "source": []
  }
 ],
 "metadata": {
  "language_info": {
   "name": "python"
  }
 },
 "nbformat": 4,
 "nbformat_minor": 2
}
