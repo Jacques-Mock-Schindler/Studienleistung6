{
 "cells": [
  {
   "cell_type": "markdown",
   "metadata": {},
   "source": [
    "<a target=\"_blank\" href=\"https://colab.research.google.com/github/Jacques-Mock-Schindler/Studienleistung6/blob/main/docs/binary_search_muloe.ipynb\">\n",
    "  <img src=\"https://colab.research.google.com/assets/colab-badge.svg\" alt=\"Open In Colab\"/>\n",
    "</a>"
   ]
  },
  {
   "cell_type": "markdown",
   "metadata": {},
   "source": [
    "## Vorbereitungen\n",
    "\n",
    "Als Vorbereitung für die Aufgaben in diesem Arbeitsblatt wird in der\n",
    "folgenden Zelle die erforderliche Python Library `random` geladen."
   ]
  },
  {
   "cell_type": "code",
   "execution_count": 1,
   "metadata": {},
   "outputs": [],
   "source": [
    "import random"
   ]
  },
  {
   "cell_type": "markdown",
   "metadata": {},
   "source": [
    "# Binary Search"
   ]
  },
  {
   "cell_type": "markdown",
   "metadata": {},
   "source": [
    "In diesem Notzibuch sollen zwei Suchalgorithmen einander gegenüber\n",
    "gestellt werden."
   ]
  },
  {
   "cell_type": "markdown",
   "metadata": {},
   "source": [
    "## Lineare Suche"
   ]
  },
  {
   "cell_type": "markdown",
   "metadata": {},
   "source": [
    "*Kommentar für die Lehrperson*  \n",
    "Für die Einführung in die lineare Suche soll in einem gut gemischten\n",
    "Spiel Jasskarten eine bestimmte Karte gesucht werden. Die Schülerinnen\n",
    "und Schüler (SuS) sollen in Partnerarbeit diskutieren, wie viele Karten\n",
    "Sie im Durchschnitt und im schlechtesten Fall vom verdeckt aufliegenden\n",
    "Stapel nehmen müssen, bis die gesuchte Karte gefunden wird."
   ]
  },
  {
   "cell_type": "markdown",
   "metadata": {},
   "source": [
    "*Ausgangslage für die Implementation*  \n",
    "Gegeben sei eine Python Liste mit 16 Werten in beliebiger Reihenfolge.\n",
    "Gesucht ist ein Verfahren, mit dem überprüft werden kann, ob ein\n",
    "beliebiger Wert in dieser Python Liste vorkommt und wenn ja, mit welchem\n",
    "Index. \n",
    "\n",
    "Die einfachste Lösung für dieses Problem ist es, ein Element nach dem\n",
    "anderen auf seine Übereinstimmung mit dem gesuchten Wert zu überprüfen.\n",
    "Wird das Element gefunden, wird der Index zurückgegeben; wird das\n",
    "Element nicht gefunden -1.  \n",
    "Das hier beschriebene Vorgehen heisst lineare Suche.  \n",
    "\n",
    "In der Folge soll mit der hier gegebenen Python Liste `sequenz`\n",
    "gearbeitet werden.  "
   ]
  },
  {
   "cell_type": "code",
   "execution_count": 4,
   "metadata": {},
   "outputs": [],
   "source": [
    "sequenz = [17, 35, 42, 24, 21, 36, 75, 34, 12, 35, 23, 69, 34, 28, \n",
    "           86, 98]"
   ]
  },
  {
   "cell_type": "markdown",
   "metadata": {},
   "source": [
    "### Aufgabe zur Implementierung der linearen Suche"
   ]
  },
  {
   "cell_type": "markdown",
   "metadata": {},
   "source": [
    "Implementieren Sie in der folgenden Zelle die lineare Suche als Funktion\n",
    "in Python.  \n",
    "Testen Sie Ihre Implementation mit den Werten 1, 17, 98 und 100 an der\n",
    "Python Liste `sequenz`."
   ]
  },
  {
   "cell_type": "code",
   "execution_count": null,
   "metadata": {},
   "outputs": [],
   "source": [
    "def linear_search(seq, x):\n",
    "    # TODO: Implementation ohne enumerate\n",
    "    i = 1\n",
    "    for value in seq:\n",
    "        if value == x:\n",
    "            break\n",
    "        else:\n",
    "            i += 1\n",
    "    if i > len(seq):\n",
    "        return -1\n",
    "    else:\n",
    "        return i - 1"
   ]
  },
  {
   "cell_type": "code",
   "execution_count": null,
   "metadata": {},
   "outputs": [],
   "source": [
    "print(linear_search(sequenz, 1))\n",
    "print(linear_search(sequenz, 17))\n",
    "print(linear_search(sequenz, 98))\n",
    "print(linear_search(sequenz, 100))"
   ]
  },
  {
   "cell_type": "markdown",
   "metadata": {},
   "source": [
    "### Aufgabe 1 zur Effizienz der linearen Suche"
   ]
  },
  {
   "cell_type": "markdown",
   "metadata": {},
   "source": [
    "Mit den folgenden Aufgaben soll aufgezeigt werden, wie es um die\n",
    "Effizienz der linearen Suche steht."
   ]
  },
  {
   "cell_type": "markdown",
   "metadata": {},
   "source": [
    "Die Python Liste `sequenz` beinhaltet 16 zufällig gewählte natürliche\n",
    "Zahlen von 1 bis 100.  \n",
    "Wählen Sie 100 mal zufällig eine Zahl aus `sequenz` aus und \n",
    "suchen Sie mit Hilfe einer Schlaufe in `sequenz` nach diesen zufällig\n",
    "gewählten Zahlen.   \n",
    "Wie viele Vergleiche müssen Sie im Durchschnitt über diese 100\n",
    "Suchdurchläufe vornehmen?"
   ]
  },
  {
   "cell_type": "code",
   "execution_count": null,
   "metadata": {},
   "outputs": [],
   "source": [
    "search_values = [random.choice(sequenz) for i in range(100)]"
   ]
  },
  {
   "cell_type": "code",
   "execution_count": null,
   "metadata": {},
   "outputs": [],
   "source": [
    "searches = []\n",
    "for x in search_values:\n",
    "    i = 0\n",
    "    for v in sequenz:\n",
    "        i += 1\n",
    "        if x == v:\n",
    "            break\n",
    "    searches.append(i)\n",
    "print(sum(searches)/len(searches))"
   ]
  },
  {
   "cell_type": "markdown",
   "metadata": {},
   "source": [
    "### Aufgabe 2 zur Effizienz der linearen Suche"
   ]
  },
  {
   "cell_type": "markdown",
   "metadata": {},
   "source": [
    "Wählen Sie zufällig 100 natürliche Zahlen aus den Zahlen von 1 bis 100\n",
    "(ziehen mit Zurücklegen) und \n",
    "suchen Sie mit Hilfe einer Schlaufe in `sequenz` nach diesen zufällig\n",
    "gewählten Zahlen.   \n",
    "Wie viele Vergleiche müssen Sie jetzt im Durchschnitt über diese 100\n",
    "Suchdruchläufe vornehmen?"
   ]
  },
  {
   "cell_type": "code",
   "execution_count": null,
   "metadata": {},
   "outputs": [],
   "source": [
    "search_values_100 = [random.randint(1,100) for i in range(100)]"
   ]
  },
  {
   "cell_type": "code",
   "execution_count": null,
   "metadata": {},
   "outputs": [],
   "source": [
    "searches_100 = []\n",
    "for x in search_values_100:\n",
    "    i = 0\n",
    "    for v in sequenz:\n",
    "        i += 1\n",
    "        if x == v:\n",
    "            break\n",
    "    searches_100.append(i)\n",
    "print(sum(searches_100)/len(searches_100))"
   ]
  },
  {
   "cell_type": "markdown",
   "metadata": {},
   "source": [
    "### Besprechung der Resultate"
   ]
  },
  {
   "cell_type": "markdown",
   "metadata": {},
   "source": [
    "Die erste Aufgabe scheint ein Resultat in der Nähe von 8 zu liefern, die\n",
    "zweite eines von etwas mehr als 14. Woran liegt das?\n",
    "\n",
    "Wenn wir eine Zahl zufällig aus der Python Liste `sequenz` auswählen,\n",
    "hat jede Position die Wahrscheinlichkeit von $\\frac{1}{16}$. Es sind also\n",
    "$\\frac{8}{16}$ mit weniger als 8 Vergleichen und $\\frac{8}{16}$ mit mehr\n",
    "als 8 Vergleichen. Damit kommen wir im Mittel auf 8 Vergleiche.  \n",
    "\n",
    "Wenn jedoch eine Zahl von 1 bis 100 gewählt wird, ist die Chance,\n",
    "dass sich die Zahl in der Python Liste `sequenz` findet, nur\n",
    "$\\frac{16}{100}$. $\\frac{84}{100}$ mögliche Werte\n",
    "liegen ausserhalb der Pyhton Liste `sequenz`. Damit werden in\n",
    "$\\frac{84}{100}$ aller Fälle 16 Vergleiche erforderlich.\n",
    "\n",
    "Daraus ergibt sich folgende Rechnung für den Gesamtdurchschnitt:\n",
    "\n",
    "$$\n",
    "\\small\n",
    "8 \\times 0.16 + 16 \\times 0.84 = 14.72\n",
    "$$\n",
    "\n",
    "Im Mittel braucht es bei der gegebenen Ausgangslage also etwas mehr als\n",
    "14 Vergleiche.  \n",
    "Im schlimmsten Fall - wenn der gesuchte Wert nicht in der Python Liste\n",
    "`sequenz` zu finden ist - braucht die lineare Suche allerdings 16\n",
    "Vergleiche.   \n",
    "Verallgemeinert bedeutet das, dass der Aufwand linear zur Länge der zu\n",
    "durchsuchenden Sequenz wächst.\n",
    "\n",
    "Vor diesem Hintergrund lohnt sich die Suche nach einem Verfahren,\n",
    "welches auch im schlimmsten Fall weniger Vergleiche erfordert. Ein\n",
    "solches Verfahren ist die binäre Suche."
   ]
  },
  {
   "cell_type": "markdown",
   "metadata": {},
   "source": [
    "## Binäre Suche"
   ]
  },
  {
   "cell_type": "markdown",
   "metadata": {},
   "source": [
    "*Kommentar für die Lehrperson*  \n",
    "Das Suchbeispiel mit den Jasskarten kann mit einem sortierten Spiel\n",
    "fortgesetzt werden. Die SuS sollen in einer Gruppe diskutieren, wie am\n",
    "effizientesten nach einer bestimmten Karte in einem sortierten Spiel\n",
    "gesucht wird. Vor dem Hintergrund der Besprechung der gewonnenen\n",
    "Erkenntnisse können dann die folgenden Aufgaben gelöst werden."
   ]
  },
  {
   "cell_type": "markdown",
   "metadata": {},
   "source": [
    "Eine erste Verbesserung der Effizienz der Suche ergibt sich, wenn die zu\n",
    "durchsuchende Sequenz in aufsteigender Reihenfolge sortiert ist. In der\n",
    "folgenden Zelle wird eine sortierte Kopie `sequenz_sortiert` von\n",
    "`sequenz` erstellt."
   ]
  },
  {
   "cell_type": "code",
   "execution_count": 11,
   "metadata": {},
   "outputs": [
    {
     "data": {
      "text/plain": [
       "[12, 17, 21, 23, 24, 28, 34, 34, 35, 35, 36, 42, 69, 75, 86, 98]"
      ]
     },
     "execution_count": 11,
     "metadata": {},
     "output_type": "execute_result"
    }
   ],
   "source": [
    "sequenz_sortiert = sequenz.copy()\n",
    "sequenz_sortiert.sort()"
   ]
  },
  {
   "cell_type": "markdown",
   "metadata": {},
   "source": [
    "### Aufgabe"
   ]
  },
  {
   "cell_type": "markdown",
   "metadata": {},
   "source": [
    "Wie kann mit möglichst wenigen Vergleichen überprüft werden, ob ein Wert\n",
    "im Bereich der Python Liste `sequenz_sortiert` liegt?  \n",
    "Überprüfen Sie Ihre Implementation mit den Werten 10, 12, 98 und 100."
   ]
  },
  {
   "cell_type": "code",
   "execution_count": null,
   "metadata": {},
   "outputs": [],
   "source": [
    "def in_range(seq, x):\n",
    "    if x < seq[0] or x > seq[-1]:\n",
    "        return -1\n",
    "    else:\n",
    "        return 1"
   ]
  },
  {
   "cell_type": "code",
   "execution_count": null,
   "metadata": {},
   "outputs": [],
   "source": [
    "print(in_range(sequenz_sortiert, 10))\n",
    "print(in_range(sequenz_sortiert, 12))\n",
    "print(in_range(sequenz_sortiert, 98))\n",
    "print(in_range(sequenz_sortiert, 100))"
   ]
  },
  {
   "cell_type": "markdown",
   "metadata": {},
   "source": [
    "### Aufgabe"
   ]
  },
  {
   "cell_type": "markdown",
   "metadata": {},
   "source": [
    "Entwerfen Sie basierend auf dem Konzept von *divide and conquer* einen\n",
    "Algorithmus für die Suche in einer geordneten Sequenz in dem Sie das\n",
    "Grundproblem in kleinere Teilprobleme zerlegen. Denken Sie dabei daran,\n",
    "allfällige Zufallslösungen nicht zu verschwenden."
   ]
  },
  {
   "cell_type": "markdown",
   "metadata": {},
   "source": [
    "Eine graphische Lösung kann folgendermassen aussehen:  \n",
    "![Flow Chart Binary Search](./images/binary_search_flow_chart.svg)"
   ]
  },
  {
   "cell_type": "markdown",
   "metadata": {},
   "source": [
    "Oder in formaler mathematischer Schreibweise:\n",
    "\n",
    "$$\n",
    "\n",
    "\\text{BinarySearch}(A, x, \\text{low}, \\text{high}) = \n",
    "\\left\\{\n",
    "    \\begin{array}{lll}\n",
    "        -1, & \\text{high} < \\text{low} & \\text{Basisfall 1}\\\\\n",
    "        \\text{mid}, & A[\\text{mid}] = x & \\text{Basisfall 2}\\\\\n",
    "        \\text{BinarySearch}(A, x, \\text{low}, \\text{mid} - 1), \n",
    "        & x < A[\\text{mid}] & \\text{Rekursionsfall links}\\\\\n",
    "        \\text{BinarySearch}(A, x, \\text{mid} + 1, \\text{high}), \n",
    "        & x > A[\\text{mid}] & \\text{Rekursionsfall rechts} \\\\\n",
    "    \\end{array}\n",
    "\\right.\n",
    "$$\n",
    "\n",
    "Wobei $A$ eine sortierte Python Liste (dynamisches Array), $x$ der gesuchte Wert, $low$ der\n",
    "Anfangsindex und $high$ der Endindex des Suchbereichs ist. Der Index\n",
    "$mid$ wird als $\\lfloor (\\text{low} + \\text{high}) / 2 \\rfloor$\n",
    "berechnet."
   ]
  },
  {
   "cell_type": "markdown",
   "metadata": {},
   "source": [
    "### Aufgabe"
   ]
  },
  {
   "cell_type": "markdown",
   "metadata": {},
   "source": [
    "Implementieren Sie die binäre Suche als Funktion in Python so, wie sie mathematisch formal\n",
    "dargestellt worden ist.  \n",
    "Überprüfen Sie auch diese Implementation mit den Werten 10, 12, 98 und 100."
   ]
  },
  {
   "cell_type": "code",
   "execution_count": 9,
   "metadata": {},
   "outputs": [],
   "source": [
    "def binary_search(seq, x, lo=0, hi=None):\n",
    "    if hi is None:\n",
    "        hi = len(seq) - 1\n",
    "        \n",
    "    mid = (lo + hi) // 2\n",
    "        \n",
    "    if hi < lo:\n",
    "        return -1\n",
    "    elif seq[mid] == x:\n",
    "        return mid\n",
    "    elif x < seq[mid]:\n",
    "        return binary_search(seq, x, lo, mid-1)\n",
    "    else:\n",
    "        return binary_search(seq, x, mid+1, hi)"
   ]
  },
  {
   "cell_type": "code",
   "execution_count": 10,
   "metadata": {},
   "outputs": [
    {
     "name": "stdout",
     "output_type": "stream",
     "text": [
      "-1\n",
      "0\n",
      "15\n",
      "-1\n"
     ]
    }
   ],
   "source": [
    "print(binary_search(sequenz_sortiert, 10))\n",
    "print(binary_search(sequenz_sortiert, 12))\n",
    "print(binary_search(sequenz_sortiert, 98))\n",
    "print(binary_search(sequenz_sortiert, 100))"
   ]
  },
  {
   "cell_type": "markdown",
   "metadata": {},
   "source": [
    "### Aufgabe"
   ]
  },
  {
   "cell_type": "markdown",
   "metadata": {},
   "source": [
    "Wie viele Vergleiche erfordert die binäre Suche in der Python Liste\n",
    "`sequenz_sortiert` für die Werte 10, 12, 98 und 100?"
   ]
  },
  {
   "cell_type": "markdown",
   "metadata": {},
   "source": [
    "Um besser Zählen zu können, können die einzelnen Schritte beim\n",
    "Durchlaufen der Funktion `binary_search()` als Tabelle dargestellt\n",
    "werden.\n",
    "\n",
    "Tabelle für den gesuchten Wert 10:\n",
    "\n",
    "|Vergleich Nr.|low|high|mid|Vergleichswert|\n",
    "| ---: | ---: | ---: | ---: | ---: |\n",
    "|1            |  0|  15|  7|   34|\n",
    "|2            |  0|   6|  3|   23|\n",
    "|3            |  0|   2|  1|   17|\n",
    "|4            |  0|   0|  0|   12|\n",
    "\n",
    "Tabelle für den gesuchten Wert 12:\n",
    "\n",
    "|Vergleich Nr.|low|high|mid|Vergleichswert|\n",
    "| ---: | ---: | ---: | ---: | ---: |\n",
    "|1            |  0|  15|  7|   34|\n",
    "|2            |  0|   6|  3|   23|\n",
    "|3            |  0|   2|  1|   17|\n",
    "|4            |  0|   0|  0|   12|\n",
    "\n",
    "Tabelle für den gesuchten Wert 98:\n",
    "\n",
    "|Vergleich Nr.|low|high|mid|Vergleichswert|\n",
    "| ---: | ---: | ---: | ---: | ---: |\n",
    "|1            |  0|  15|  7|   34|\n",
    "|2            |  8|  15| 11|   42|\n",
    "|3            | 12|  15| 13|   75|\n",
    "|4            | 14|  15| 14|   86|\n",
    "|5            | 15|  15| 15|   98|\n",
    "\n",
    "Tabelle für den gesuchten Wert 100:\n",
    "\n",
    "|Vergleich Nr.|low|high|mid|Vergleichswert|\n",
    "| ---: | ---: | ---: | ---: | ---: |\n",
    "|1            |  0|  15|  7|   34|\n",
    "|2            |  8|  15| 11|   42|\n",
    "|3            | 12|  15| 13|   75|\n",
    "|4            | 14|  15| 14|   86|\n",
    "|5            | 15|  15| 15|   98|\n"
   ]
  },
  {
   "cell_type": "markdown",
   "metadata": {},
   "source": [
    "Durch Ausprobieren kommt man im Maximum auf 5 Vergleiche."
   ]
  },
  {
   "cell_type": "markdown",
   "metadata": {},
   "source": [
    "### Aufgabe"
   ]
  },
  {
   "cell_type": "markdown",
   "metadata": {},
   "source": [
    "In welcher Beziehung steht die Zahl 5 zur Zahl 16? Eine Hilfe ergibt\n",
    "sich möglicherweise aus der Information, dass bei einer Sequenz mit 8\n",
    "Elementen im Maximum 4 Vergleiche und bei einer solchen mit 32 Elementen\n",
    "6 Vergleiche erforderlich sind.\n",
    "\n"
   ]
  },
  {
   "cell_type": "markdown",
   "metadata": {},
   "source": [
    "5 ist gleich $log_2(16) + 1$. Es scheint, als brauche es im Maximum $log_2(n) + 1$ Vergleiche."
   ]
  },
  {
   "cell_type": "markdown",
   "metadata": {},
   "source": [
    "### Induktive Herleitung des Resultates"
   ]
  },
  {
   "cell_type": "markdown",
   "metadata": {},
   "source": [
    "Mit der binären Suche soll in einer aufsteigend sortierten Sequenz der\n",
    "Länge $n$ ein bestimmtes Element gefunden werden.\n",
    "\n",
    "Die Suche nach dem Element beginnt in der Mitte der gegebenen Sequenz.  \n",
    "\n",
    "Falls das gesuchte Element mit dem Element in der Mitte der Sequenz\n",
    "übereinstimmt, wurde das gesuchte Element gefunden und die Suche endet.  \n",
    "Ist das gesuchte Element kleiner als das mittlere Element, muss das\n",
    "gesuchte Element in der linken\n",
    "Hälfte gesucht werden. Ist das gesuchte Element grösser als das mittlere\n",
    "Element, muss in der rechten Hälfte weitergesucht werden. In beiden\n",
    "Fällen reduziert sich das Problem auf die Hälfte seiner ursprünglichen\n",
    "Grösse.  \n",
    "\n",
    "Das Problem wird bei jedem Vergleich halbiert, bis entweder das gesuchte\n",
    "Element gefunden worden ist, oder kein Element zum Vergleichen mehr\n",
    "übrig ist. Im schlimmsten Fall sind $log_2(n) + 1$ Schritte erforderlich,\n",
    "um festzustellen, dass das gesuchte Element in der gegebenen Sequenz\n",
    "nicht vorkommt.  \n",
    "\n",
    "Das bedeutet, dass der Aufwand für die Suche sehr viel langsamer wächst,\n",
    "als die Anzahl der Elemente in einer zu durchsuchenden Sequenz."
   ]
  },
  {
   "cell_type": "markdown",
   "metadata": {},
   "source": [
    "In der untenstehenden Grafik soll der Unterschied zwischen linearem und\n",
    "logarithmischem Wachstum veranschaulicht werden."
   ]
  },
  {
   "cell_type": "markdown",
   "metadata": {},
   "source": [
    "![Gegenüberstellung lineares und logarithmisches Wachstum](./images/lin_log.svg)"
   ]
  }
 ],
 "metadata": {
  "kernelspec": {
   "display_name": ".venv",
   "language": "python",
   "name": "python3"
  },
  "language_info": {
   "codemirror_mode": {
    "name": "ipython",
    "version": 3
   },
   "file_extension": ".py",
   "mimetype": "text/x-python",
   "name": "python",
   "nbconvert_exporter": "python",
   "pygments_lexer": "ipython3",
   "version": "3.12.2"
  }
 },
 "nbformat": 4,
 "nbformat_minor": 2
}
