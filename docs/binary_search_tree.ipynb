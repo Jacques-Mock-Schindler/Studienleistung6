{
 "cells": [
  {
   "cell_type": "markdown",
   "metadata": {},
   "source": [
    "# Binärer Suchbaum"
   ]
  },
  {
   "cell_type": "code",
   "execution_count": 3,
   "metadata": {},
   "outputs": [],
   "source": [
    "from binarytree import build, bst"
   ]
  },
  {
   "cell_type": "code",
   "execution_count": 5,
   "metadata": {},
   "outputs": [
    {
     "name": "stdout",
     "output_type": "stream",
     "text": [
      "\n",
      "  ____7_______\n",
      " /            \\\n",
      "0           ___12\n",
      " \\         /     \\\n",
      "  1       9       13\n",
      "   \\     / \\        \\\n",
      "    3   8   10       14\n",
      "\n"
     ]
    }
   ],
   "source": [
    "values = [42, 18, 28, 100, 66, 57, 2, 19, 93, 16]\n",
    "\n",
    "root = bst()\n",
    "\n",
    "print(root)"
   ]
  }
 ],
 "metadata": {
  "kernelspec": {
   "display_name": ".venv",
   "language": "python",
   "name": "python3"
  },
  "language_info": {
   "codemirror_mode": {
    "name": "ipython",
    "version": 3
   },
   "file_extension": ".py",
   "mimetype": "text/x-python",
   "name": "python",
   "nbconvert_exporter": "python",
   "pygments_lexer": "ipython3",
   "version": "3.12.2"
  }
 },
 "nbformat": 4,
 "nbformat_minor": 2
}
